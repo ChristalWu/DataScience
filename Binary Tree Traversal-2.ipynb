{
 "cells": [
  {
   "cell_type": "code",
   "execution_count": 3,
   "metadata": {},
   "outputs": [],
   "source": [
    "class Node(object): \n",
    "      \n",
    "    # Constructor to initialize a heap \n",
    "    def __init__(self,value): \n",
    "        self.value = value\n",
    "        self.right = None\n",
    "        self.left = None\n",
    "\n",
    "class BinaryTree(object):\n",
    "    def __init__(self,value):\n",
    "            self.root = Node(value)\n",
    "    def printInorder(self, node):\n",
    "        if(node!=None):\n",
    "            self.printInorder(node.left)\n",
    "            print(node.value)\n",
    "            self.printInorder(node.right)\n",
    "        pass\n",
    "\n",
    "tree = BinaryTree(1)\n",
    "tree.root.left = Node(2)\n",
    "tree.root.right = Node(3)\n",
    "tree.root.left.left = Node(4)\n",
    "tree.root.left.right = Node(5)\n",
    "tree.root.right.left = Node(6)\n",
    "tree.root.right.right = Node(7)\n",
    "tree.root.left.left.left = Node(8)\n",
    "tree.root.left.left.right = Node(9)\n",
    "tree.root.left.right.left = Node(10)\n",
    "tree.root.left.right.right = Node(11)\n",
    "tree.root.right.left.left = Node(12)\n",
    "tree.root.right.left.right = Node(13)\n",
    "tree.root.right.right.left = Node(14)\n",
    "tree.root.right.right.right = Node(15)"
   ]
  },
  {
   "cell_type": "code",
   "execution_count": 5,
   "metadata": {},
   "outputs": [
    {
     "name": "stdout",
     "output_type": "stream",
     "text": [
      "8\n",
      "4\n",
      "9\n",
      "2\n",
      "10\n",
      "5\n",
      "11\n",
      "1\n",
      "12\n",
      "6\n",
      "13\n",
      "3\n",
      "14\n",
      "7\n",
      "15\n"
     ]
    }
   ],
   "source": [
    "tree.printInorder(tree.root)"
   ]
  },
  {
   "cell_type": "markdown",
   "metadata": {},
   "source": []
  }
 ],
 "metadata": {
  "kernelspec": {
   "display_name": "Python 3",
   "language": "python",
   "name": "python3"
  },
  "language_info": {
   "codemirror_mode": {
    "name": "ipython",
    "version": 3
   },
   "file_extension": ".py",
   "mimetype": "text/x-python",
   "name": "python",
   "nbconvert_exporter": "python",
   "pygments_lexer": "ipython3",
   "version": "3.7.1"
  }
 },
 "nbformat": 4,
 "nbformat_minor": 2
}
